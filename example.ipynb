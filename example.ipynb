{
 "cells": [
  {
   "cell_type": "markdown",
   "metadata": {},
   "source": [
    "# ニフティインターン 機械学習モデル開発3日間コース チュートリアルノートブック"
   ]
  },
  {
   "cell_type": "markdown",
   "metadata": {},
   "source": [
    "## ライブラリのインポート"
   ]
  },
  {
   "cell_type": "code",
   "execution_count": 2,
   "metadata": {},
   "outputs": [],
   "source": [
    "import numpy as np\n",
    "import pandas as pd\n",
    "from sklearn.preprocessing import LabelEncoder\n",
    "from sklearn.model_selection import train_test_split\n",
    "from sklearn.linear_model import LogisticRegression\n",
    "from sklearn.ensemble import RandomForestClassifier\n",
    "from sklearn.metrics import accuracy_score, roc_auc_score, confusion_matrix"
   ]
  },
  {
   "cell_type": "markdown",
   "metadata": {},
   "source": [
    "## データの取得"
   ]
  },
  {
   "cell_type": "code",
   "execution_count": 5,
   "metadata": {},
   "outputs": [
    {
     "name": "stdout",
     "output_type": "stream",
     "text": [
      "download: s3://nifty-machine-learning-internship-2020/sample_submission.csv to input/sample_submission.csv\n",
      "download: s3://nifty-machine-learning-internship-2020/test.csv to input/test.csv\n",
      "download: s3://nifty-machine-learning-internship-2020/train.csv to input/train.csv\n",
      "download: s3://nifty-machine-learning-internship-2020/service_use_history.csv to input/service_use_history.csv\n"
     ]
    }
   ],
   "source": [
    "# 初回だけ実行すれば大丈夫です\n",
    "! aws s3 cp s3://nifty-machine-learning-internship-2020/ ./input --recursive"
   ]
  },
  {
   "cell_type": "markdown",
   "metadata": {},
   "source": [
    "## データの読み込み"
   ]
  },
  {
   "cell_type": "code",
   "execution_count": 5,
   "metadata": {},
   "outputs": [
    {
     "data": {
      "text/plain": [
       "array(['鹿児島', '北海道', '長野', '福島', '愛知', '神奈川', '大阪', '石川', '長崎', '山口',\n",
       "       '埼玉', '東京', '三重', '宮城', '福岡', '新潟', '茨城', '青森', '兵庫', '千葉', '秋田',\n",
       "       '香川', '京都', '山形', '岡山', '滋賀', '富山', '熊本', '佐賀', '群馬', '広島', '栃木',\n",
       "       '沖縄', '静岡', '奈良', '島根', '大分', '徳島', '二府亭県', '高知', '愛媛', '宮崎', '岩手',\n",
       "       '岐阜', '福井', '山梨', '和歌山', '鳥取'], dtype=object)"
      ]
     },
     "execution_count": 5,
     "metadata": {},
     "output_type": "execute_result"
    }
   ],
   "source": [
    "train = pd.read_csv('input/train.csv')\n",
    "test=pd.read_csv(\"input/test.csv\")\n",
    "train[\"prefecture\"].unique()"
   ]
  },
  {
   "cell_type": "markdown",
   "metadata": {},
   "source": [
    "## データの確認"
   ]
  },
  {
   "cell_type": "code",
   "execution_count": 7,
   "metadata": {
    "scrolled": true
   },
   "outputs": [
    {
     "name": "stdout",
     "output_type": "stream",
     "text": [
      "<class 'pandas.core.frame.DataFrame'>\n",
      "RangeIndex: 100000 entries, 0 to 99999\n",
      "Data columns (total 15 columns):\n",
      " #   Column           Non-Null Count   Dtype \n",
      "---  ------           --------------   ----- \n",
      " 0   user_id          100000 non-null  object\n",
      " 1   user_agent       100000 non-null  object\n",
      " 2   entry_date       100000 non-null  object\n",
      " 3   open_date        100000 non-null  object\n",
      " 4   birthday         99459 non-null   object\n",
      " 5   id_status        100000 non-null  object\n",
      " 6   gender           100000 non-null  object\n",
      " 7   blood_type       100000 non-null  object\n",
      " 8   pay_method_type  100000 non-null  object\n",
      " 9   course_name      100000 non-null  object\n",
      " 10  price_type       100000 non-null  object\n",
      " 11  entry_from       100000 non-null  object\n",
      " 12  privilege_name   100000 non-null  object\n",
      " 13  prefecture       100000 non-null  object\n",
      " 14  close_flag       100000 non-null  int64 \n",
      "dtypes: int64(1), object(14)\n",
      "memory usage: 11.4+ MB\n"
     ]
    }
   ],
   "source": [
    "train.info()"
   ]
  },
  {
   "cell_type": "code",
   "execution_count": 8,
   "metadata": {},
   "outputs": [
    {
     "data": {
      "text/html": [
       "<div>\n",
       "<style scoped>\n",
       "    .dataframe tbody tr th:only-of-type {\n",
       "        vertical-align: middle;\n",
       "    }\n",
       "\n",
       "    .dataframe tbody tr th {\n",
       "        vertical-align: top;\n",
       "    }\n",
       "\n",
       "    .dataframe thead th {\n",
       "        text-align: right;\n",
       "    }\n",
       "</style>\n",
       "<table border=\"1\" class=\"dataframe\">\n",
       "  <thead>\n",
       "    <tr style=\"text-align: right;\">\n",
       "      <th></th>\n",
       "      <th>user_id</th>\n",
       "      <th>user_agent</th>\n",
       "      <th>entry_date</th>\n",
       "      <th>open_date</th>\n",
       "      <th>birthday</th>\n",
       "      <th>id_status</th>\n",
       "      <th>gender</th>\n",
       "      <th>blood_type</th>\n",
       "      <th>pay_method_type</th>\n",
       "      <th>course_name</th>\n",
       "      <th>price_type</th>\n",
       "      <th>entry_from</th>\n",
       "      <th>privilege_name</th>\n",
       "      <th>prefecture</th>\n",
       "      <th>close_flag</th>\n",
       "    </tr>\n",
       "  </thead>\n",
       "  <tbody>\n",
       "    <tr>\n",
       "      <th>count</th>\n",
       "      <td>100000</td>\n",
       "      <td>100000</td>\n",
       "      <td>100000</td>\n",
       "      <td>100000</td>\n",
       "      <td>99459</td>\n",
       "      <td>100000</td>\n",
       "      <td>100000</td>\n",
       "      <td>100000</td>\n",
       "      <td>100000</td>\n",
       "      <td>100000</td>\n",
       "      <td>100000</td>\n",
       "      <td>100000</td>\n",
       "      <td>100000</td>\n",
       "      <td>100000</td>\n",
       "      <td>100000.000000</td>\n",
       "    </tr>\n",
       "    <tr>\n",
       "      <th>unique</th>\n",
       "      <td>100000</td>\n",
       "      <td>78651</td>\n",
       "      <td>2190</td>\n",
       "      <td>2337</td>\n",
       "      <td>18714</td>\n",
       "      <td>2</td>\n",
       "      <td>2</td>\n",
       "      <td>4</td>\n",
       "      <td>3</td>\n",
       "      <td>3</td>\n",
       "      <td>4</td>\n",
       "      <td>6</td>\n",
       "      <td>4</td>\n",
       "      <td>48</td>\n",
       "      <td>NaN</td>\n",
       "    </tr>\n",
       "    <tr>\n",
       "      <th>top</th>\n",
       "      <td>USLTHP32419</td>\n",
       "      <td>Mozilla/5.0 (compatible; MSIE 7.0; Windows NT ...</td>\n",
       "      <td>2018-09-18</td>\n",
       "      <td>2020-01-07</td>\n",
       "      <td>1984-08-12</td>\n",
       "      <td>新規</td>\n",
       "      <td>男性</td>\n",
       "      <td>A</td>\n",
       "      <td>クレジットカード</td>\n",
       "      <td>@nifty光</td>\n",
       "      <td>マンション2年プラン</td>\n",
       "      <td>直販WEB</td>\n",
       "      <td>キャッシュバック還元</td>\n",
       "      <td>東京</td>\n",
       "      <td>NaN</td>\n",
       "    </tr>\n",
       "    <tr>\n",
       "      <th>freq</th>\n",
       "      <td>1</td>\n",
       "      <td>76</td>\n",
       "      <td>76</td>\n",
       "      <td>72</td>\n",
       "      <td>22</td>\n",
       "      <td>80720</td>\n",
       "      <td>77015</td>\n",
       "      <td>38547</td>\n",
       "      <td>43436</td>\n",
       "      <td>35733</td>\n",
       "      <td>40704</td>\n",
       "      <td>24824</td>\n",
       "      <td>32455</td>\n",
       "      <td>10555</td>\n",
       "      <td>NaN</td>\n",
       "    </tr>\n",
       "    <tr>\n",
       "      <th>mean</th>\n",
       "      <td>NaN</td>\n",
       "      <td>NaN</td>\n",
       "      <td>NaN</td>\n",
       "      <td>NaN</td>\n",
       "      <td>NaN</td>\n",
       "      <td>NaN</td>\n",
       "      <td>NaN</td>\n",
       "      <td>NaN</td>\n",
       "      <td>NaN</td>\n",
       "      <td>NaN</td>\n",
       "      <td>NaN</td>\n",
       "      <td>NaN</td>\n",
       "      <td>NaN</td>\n",
       "      <td>NaN</td>\n",
       "      <td>0.099880</td>\n",
       "    </tr>\n",
       "    <tr>\n",
       "      <th>std</th>\n",
       "      <td>NaN</td>\n",
       "      <td>NaN</td>\n",
       "      <td>NaN</td>\n",
       "      <td>NaN</td>\n",
       "      <td>NaN</td>\n",
       "      <td>NaN</td>\n",
       "      <td>NaN</td>\n",
       "      <td>NaN</td>\n",
       "      <td>NaN</td>\n",
       "      <td>NaN</td>\n",
       "      <td>NaN</td>\n",
       "      <td>NaN</td>\n",
       "      <td>NaN</td>\n",
       "      <td>NaN</td>\n",
       "      <td>0.299841</td>\n",
       "    </tr>\n",
       "    <tr>\n",
       "      <th>min</th>\n",
       "      <td>NaN</td>\n",
       "      <td>NaN</td>\n",
       "      <td>NaN</td>\n",
       "      <td>NaN</td>\n",
       "      <td>NaN</td>\n",
       "      <td>NaN</td>\n",
       "      <td>NaN</td>\n",
       "      <td>NaN</td>\n",
       "      <td>NaN</td>\n",
       "      <td>NaN</td>\n",
       "      <td>NaN</td>\n",
       "      <td>NaN</td>\n",
       "      <td>NaN</td>\n",
       "      <td>NaN</td>\n",
       "      <td>0.000000</td>\n",
       "    </tr>\n",
       "    <tr>\n",
       "      <th>25%</th>\n",
       "      <td>NaN</td>\n",
       "      <td>NaN</td>\n",
       "      <td>NaN</td>\n",
       "      <td>NaN</td>\n",
       "      <td>NaN</td>\n",
       "      <td>NaN</td>\n",
       "      <td>NaN</td>\n",
       "      <td>NaN</td>\n",
       "      <td>NaN</td>\n",
       "      <td>NaN</td>\n",
       "      <td>NaN</td>\n",
       "      <td>NaN</td>\n",
       "      <td>NaN</td>\n",
       "      <td>NaN</td>\n",
       "      <td>0.000000</td>\n",
       "    </tr>\n",
       "    <tr>\n",
       "      <th>50%</th>\n",
       "      <td>NaN</td>\n",
       "      <td>NaN</td>\n",
       "      <td>NaN</td>\n",
       "      <td>NaN</td>\n",
       "      <td>NaN</td>\n",
       "      <td>NaN</td>\n",
       "      <td>NaN</td>\n",
       "      <td>NaN</td>\n",
       "      <td>NaN</td>\n",
       "      <td>NaN</td>\n",
       "      <td>NaN</td>\n",
       "      <td>NaN</td>\n",
       "      <td>NaN</td>\n",
       "      <td>NaN</td>\n",
       "      <td>0.000000</td>\n",
       "    </tr>\n",
       "    <tr>\n",
       "      <th>75%</th>\n",
       "      <td>NaN</td>\n",
       "      <td>NaN</td>\n",
       "      <td>NaN</td>\n",
       "      <td>NaN</td>\n",
       "      <td>NaN</td>\n",
       "      <td>NaN</td>\n",
       "      <td>NaN</td>\n",
       "      <td>NaN</td>\n",
       "      <td>NaN</td>\n",
       "      <td>NaN</td>\n",
       "      <td>NaN</td>\n",
       "      <td>NaN</td>\n",
       "      <td>NaN</td>\n",
       "      <td>NaN</td>\n",
       "      <td>0.000000</td>\n",
       "    </tr>\n",
       "    <tr>\n",
       "      <th>max</th>\n",
       "      <td>NaN</td>\n",
       "      <td>NaN</td>\n",
       "      <td>NaN</td>\n",
       "      <td>NaN</td>\n",
       "      <td>NaN</td>\n",
       "      <td>NaN</td>\n",
       "      <td>NaN</td>\n",
       "      <td>NaN</td>\n",
       "      <td>NaN</td>\n",
       "      <td>NaN</td>\n",
       "      <td>NaN</td>\n",
       "      <td>NaN</td>\n",
       "      <td>NaN</td>\n",
       "      <td>NaN</td>\n",
       "      <td>1.000000</td>\n",
       "    </tr>\n",
       "  </tbody>\n",
       "</table>\n",
       "</div>"
      ],
      "text/plain": [
       "            user_id                                         user_agent  \\\n",
       "count        100000                                             100000   \n",
       "unique       100000                                              78651   \n",
       "top     USLTHP32419  Mozilla/5.0 (compatible; MSIE 7.0; Windows NT ...   \n",
       "freq              1                                                 76   \n",
       "mean            NaN                                                NaN   \n",
       "std             NaN                                                NaN   \n",
       "min             NaN                                                NaN   \n",
       "25%             NaN                                                NaN   \n",
       "50%             NaN                                                NaN   \n",
       "75%             NaN                                                NaN   \n",
       "max             NaN                                                NaN   \n",
       "\n",
       "        entry_date   open_date    birthday id_status  gender blood_type  \\\n",
       "count       100000      100000       99459    100000  100000     100000   \n",
       "unique        2190        2337       18714         2       2          4   \n",
       "top     2018-09-18  2020-01-07  1984-08-12        新規      男性          A   \n",
       "freq            76          72          22     80720   77015      38547   \n",
       "mean           NaN         NaN         NaN       NaN     NaN        NaN   \n",
       "std            NaN         NaN         NaN       NaN     NaN        NaN   \n",
       "min            NaN         NaN         NaN       NaN     NaN        NaN   \n",
       "25%            NaN         NaN         NaN       NaN     NaN        NaN   \n",
       "50%            NaN         NaN         NaN       NaN     NaN        NaN   \n",
       "75%            NaN         NaN         NaN       NaN     NaN        NaN   \n",
       "max            NaN         NaN         NaN       NaN     NaN        NaN   \n",
       "\n",
       "       pay_method_type course_name  price_type entry_from privilege_name  \\\n",
       "count           100000      100000      100000     100000         100000   \n",
       "unique               3           3           4          6              4   \n",
       "top           クレジットカード     @nifty光  マンション2年プラン      直販WEB     キャッシュバック還元   \n",
       "freq             43436       35733       40704      24824          32455   \n",
       "mean               NaN         NaN         NaN        NaN            NaN   \n",
       "std                NaN         NaN         NaN        NaN            NaN   \n",
       "min                NaN         NaN         NaN        NaN            NaN   \n",
       "25%                NaN         NaN         NaN        NaN            NaN   \n",
       "50%                NaN         NaN         NaN        NaN            NaN   \n",
       "75%                NaN         NaN         NaN        NaN            NaN   \n",
       "max                NaN         NaN         NaN        NaN            NaN   \n",
       "\n",
       "       prefecture     close_flag  \n",
       "count      100000  100000.000000  \n",
       "unique         48            NaN  \n",
       "top            東京            NaN  \n",
       "freq        10555            NaN  \n",
       "mean          NaN       0.099880  \n",
       "std           NaN       0.299841  \n",
       "min           NaN       0.000000  \n",
       "25%           NaN       0.000000  \n",
       "50%           NaN       0.000000  \n",
       "75%           NaN       0.000000  \n",
       "max           NaN       1.000000  "
      ]
     },
     "execution_count": 8,
     "metadata": {},
     "output_type": "execute_result"
    }
   ],
   "source": [
    "train.describe(include='all')"
   ]
  },
  {
   "cell_type": "markdown",
   "metadata": {},
   "source": [
    "## 使わないカラムの削除"
   ]
  },
  {
   "cell_type": "code",
   "execution_count": 9,
   "metadata": {},
   "outputs": [
    {
     "data": {
      "text/html": [
       "<div>\n",
       "<style scoped>\n",
       "    .dataframe tbody tr th:only-of-type {\n",
       "        vertical-align: middle;\n",
       "    }\n",
       "\n",
       "    .dataframe tbody tr th {\n",
       "        vertical-align: top;\n",
       "    }\n",
       "\n",
       "    .dataframe thead th {\n",
       "        text-align: right;\n",
       "    }\n",
       "</style>\n",
       "<table border=\"1\" class=\"dataframe\">\n",
       "  <thead>\n",
       "    <tr style=\"text-align: right;\">\n",
       "      <th></th>\n",
       "      <th>user_id</th>\n",
       "      <th>id_status</th>\n",
       "      <th>gender</th>\n",
       "      <th>blood_type</th>\n",
       "      <th>pay_method_type</th>\n",
       "      <th>course_name</th>\n",
       "      <th>price_type</th>\n",
       "      <th>entry_from</th>\n",
       "      <th>privilege_name</th>\n",
       "      <th>prefecture</th>\n",
       "      <th>close_flag</th>\n",
       "    </tr>\n",
       "  </thead>\n",
       "  <tbody>\n",
       "    <tr>\n",
       "      <th>0</th>\n",
       "      <td>YKJGBC19356</td>\n",
       "      <td>新規</td>\n",
       "      <td>男性</td>\n",
       "      <td>A</td>\n",
       "      <td>クレジットカード</td>\n",
       "      <td>@nifty光</td>\n",
       "      <td>マンション2年プラン</td>\n",
       "      <td>代理店取次</td>\n",
       "      <td>キャッシュバック還元</td>\n",
       "      <td>鹿児島</td>\n",
       "      <td>0</td>\n",
       "    </tr>\n",
       "    <tr>\n",
       "      <th>1</th>\n",
       "      <td>JMFEBB08712</td>\n",
       "      <td>新規</td>\n",
       "      <td>女性</td>\n",
       "      <td>O</td>\n",
       "      <td>クレジットカード</td>\n",
       "      <td>@nifty光</td>\n",
       "      <td>ホーム2年プラン</td>\n",
       "      <td>代理店取次</td>\n",
       "      <td>付帯サービス無料</td>\n",
       "      <td>北海道</td>\n",
       "      <td>0</td>\n",
       "    </tr>\n",
       "    <tr>\n",
       "      <th>2</th>\n",
       "      <td>EXLFTB26665</td>\n",
       "      <td>既存</td>\n",
       "      <td>女性</td>\n",
       "      <td>AB</td>\n",
       "      <td>クレジットカード</td>\n",
       "      <td>@nifty auひかり</td>\n",
       "      <td>ホーム2年プラン</td>\n",
       "      <td>ノジマ取次</td>\n",
       "      <td>月額割引還元</td>\n",
       "      <td>長野</td>\n",
       "      <td>0</td>\n",
       "    </tr>\n",
       "    <tr>\n",
       "      <th>3</th>\n",
       "      <td>MWEEMY19722</td>\n",
       "      <td>新規</td>\n",
       "      <td>男性</td>\n",
       "      <td>B</td>\n",
       "      <td>クレジットカード</td>\n",
       "      <td>@nifty光</td>\n",
       "      <td>マンション2年プラン</td>\n",
       "      <td>代理店取次</td>\n",
       "      <td>キャッシュバック還元</td>\n",
       "      <td>福島</td>\n",
       "      <td>0</td>\n",
       "    </tr>\n",
       "    <tr>\n",
       "      <th>4</th>\n",
       "      <td>WWTLYT31226</td>\n",
       "      <td>新規</td>\n",
       "      <td>男性</td>\n",
       "      <td>A</td>\n",
       "      <td>クレジットカード</td>\n",
       "      <td>@nifty auひかり</td>\n",
       "      <td>マンション3年プラン</td>\n",
       "      <td>WEB代理店</td>\n",
       "      <td>付帯サービス無料</td>\n",
       "      <td>愛知</td>\n",
       "      <td>0</td>\n",
       "    </tr>\n",
       "  </tbody>\n",
       "</table>\n",
       "</div>"
      ],
      "text/plain": [
       "       user_id id_status gender blood_type pay_method_type   course_name  \\\n",
       "0  YKJGBC19356        新規     男性          A        クレジットカード       @nifty光   \n",
       "1  JMFEBB08712        新規     女性          O        クレジットカード       @nifty光   \n",
       "2  EXLFTB26665        既存     女性         AB        クレジットカード  @nifty auひかり   \n",
       "3  MWEEMY19722        新規     男性          B        クレジットカード       @nifty光   \n",
       "4  WWTLYT31226        新規     男性          A        クレジットカード  @nifty auひかり   \n",
       "\n",
       "   price_type entry_from privilege_name prefecture  close_flag  \n",
       "0  マンション2年プラン      代理店取次     キャッシュバック還元        鹿児島           0  \n",
       "1    ホーム2年プラン      代理店取次       付帯サービス無料        北海道           0  \n",
       "2    ホーム2年プラン      ノジマ取次         月額割引還元         長野           0  \n",
       "3  マンション2年プラン      代理店取次     キャッシュバック還元         福島           0  \n",
       "4  マンション3年プラン     WEB代理店       付帯サービス無料         愛知           0  "
      ]
     },
     "execution_count": 9,
     "metadata": {},
     "output_type": "execute_result"
    }
   ],
   "source": [
    "datetime_columns = ['entry_date', 'open_date', 'birthday']\n",
    "for column in datetime_columns:\n",
    "    train = train.drop(column, axis=1)\n",
    "\n",
    "#消し方    \n",
    "train = train.drop('user_agent', axis=1)\n",
    "\n",
    "train.head()"
   ]
  },
  {
   "cell_type": "markdown",
   "metadata": {},
   "source": [
    "## IDの処理"
   ]
  },
  {
   "cell_type": "code",
   "execution_count": 10,
   "metadata": {
    "scrolled": true
   },
   "outputs": [
    {
     "data": {
      "text/html": [
       "<div>\n",
       "<style scoped>\n",
       "    .dataframe tbody tr th:only-of-type {\n",
       "        vertical-align: middle;\n",
       "    }\n",
       "\n",
       "    .dataframe tbody tr th {\n",
       "        vertical-align: top;\n",
       "    }\n",
       "\n",
       "    .dataframe thead th {\n",
       "        text-align: right;\n",
       "    }\n",
       "</style>\n",
       "<table border=\"1\" class=\"dataframe\">\n",
       "  <thead>\n",
       "    <tr style=\"text-align: right;\">\n",
       "      <th></th>\n",
       "      <th>id_status</th>\n",
       "      <th>gender</th>\n",
       "      <th>blood_type</th>\n",
       "      <th>pay_method_type</th>\n",
       "      <th>course_name</th>\n",
       "      <th>price_type</th>\n",
       "      <th>entry_from</th>\n",
       "      <th>privilege_name</th>\n",
       "      <th>prefecture</th>\n",
       "      <th>close_flag</th>\n",
       "    </tr>\n",
       "    <tr>\n",
       "      <th>user_id</th>\n",
       "      <th></th>\n",
       "      <th></th>\n",
       "      <th></th>\n",
       "      <th></th>\n",
       "      <th></th>\n",
       "      <th></th>\n",
       "      <th></th>\n",
       "      <th></th>\n",
       "      <th></th>\n",
       "      <th></th>\n",
       "    </tr>\n",
       "  </thead>\n",
       "  <tbody>\n",
       "    <tr>\n",
       "      <th>YKJGBC19356</th>\n",
       "      <td>新規</td>\n",
       "      <td>男性</td>\n",
       "      <td>A</td>\n",
       "      <td>クレジットカード</td>\n",
       "      <td>@nifty光</td>\n",
       "      <td>マンション2年プラン</td>\n",
       "      <td>代理店取次</td>\n",
       "      <td>キャッシュバック還元</td>\n",
       "      <td>鹿児島</td>\n",
       "      <td>0</td>\n",
       "    </tr>\n",
       "    <tr>\n",
       "      <th>JMFEBB08712</th>\n",
       "      <td>新規</td>\n",
       "      <td>女性</td>\n",
       "      <td>O</td>\n",
       "      <td>クレジットカード</td>\n",
       "      <td>@nifty光</td>\n",
       "      <td>ホーム2年プラン</td>\n",
       "      <td>代理店取次</td>\n",
       "      <td>付帯サービス無料</td>\n",
       "      <td>北海道</td>\n",
       "      <td>0</td>\n",
       "    </tr>\n",
       "    <tr>\n",
       "      <th>EXLFTB26665</th>\n",
       "      <td>既存</td>\n",
       "      <td>女性</td>\n",
       "      <td>AB</td>\n",
       "      <td>クレジットカード</td>\n",
       "      <td>@nifty auひかり</td>\n",
       "      <td>ホーム2年プラン</td>\n",
       "      <td>ノジマ取次</td>\n",
       "      <td>月額割引還元</td>\n",
       "      <td>長野</td>\n",
       "      <td>0</td>\n",
       "    </tr>\n",
       "    <tr>\n",
       "      <th>MWEEMY19722</th>\n",
       "      <td>新規</td>\n",
       "      <td>男性</td>\n",
       "      <td>B</td>\n",
       "      <td>クレジットカード</td>\n",
       "      <td>@nifty光</td>\n",
       "      <td>マンション2年プラン</td>\n",
       "      <td>代理店取次</td>\n",
       "      <td>キャッシュバック還元</td>\n",
       "      <td>福島</td>\n",
       "      <td>0</td>\n",
       "    </tr>\n",
       "    <tr>\n",
       "      <th>WWTLYT31226</th>\n",
       "      <td>新規</td>\n",
       "      <td>男性</td>\n",
       "      <td>A</td>\n",
       "      <td>クレジットカード</td>\n",
       "      <td>@nifty auひかり</td>\n",
       "      <td>マンション3年プラン</td>\n",
       "      <td>WEB代理店</td>\n",
       "      <td>付帯サービス無料</td>\n",
       "      <td>愛知</td>\n",
       "      <td>0</td>\n",
       "    </tr>\n",
       "  </tbody>\n",
       "</table>\n",
       "</div>"
      ],
      "text/plain": [
       "            id_status gender blood_type pay_method_type   course_name  \\\n",
       "user_id                                                                 \n",
       "YKJGBC19356        新規     男性          A        クレジットカード       @nifty光   \n",
       "JMFEBB08712        新規     女性          O        クレジットカード       @nifty光   \n",
       "EXLFTB26665        既存     女性         AB        クレジットカード  @nifty auひかり   \n",
       "MWEEMY19722        新規     男性          B        クレジットカード       @nifty光   \n",
       "WWTLYT31226        新規     男性          A        クレジットカード  @nifty auひかり   \n",
       "\n",
       "             price_type entry_from privilege_name prefecture  close_flag  \n",
       "user_id                                                                   \n",
       "YKJGBC19356  マンション2年プラン      代理店取次     キャッシュバック還元        鹿児島           0  \n",
       "JMFEBB08712    ホーム2年プラン      代理店取次       付帯サービス無料        北海道           0  \n",
       "EXLFTB26665    ホーム2年プラン      ノジマ取次         月額割引還元         長野           0  \n",
       "MWEEMY19722  マンション2年プラン      代理店取次     キャッシュバック還元         福島           0  \n",
       "WWTLYT31226  マンション3年プラン     WEB代理店       付帯サービス無料         愛知           0  "
      ]
     },
     "execution_count": 10,
     "metadata": {},
     "output_type": "execute_result"
    }
   ],
   "source": [
    "train = train.set_index('user_id')\n",
    "train.head()"
   ]
  },
  {
   "cell_type": "markdown",
   "metadata": {},
   "source": [
    "## カテゴリデータの処理"
   ]
  },
  {
   "cell_type": "code",
   "execution_count": 11,
   "metadata": {},
   "outputs": [
    {
     "data": {
      "text/html": [
       "<div>\n",
       "<style scoped>\n",
       "    .dataframe tbody tr th:only-of-type {\n",
       "        vertical-align: middle;\n",
       "    }\n",
       "\n",
       "    .dataframe tbody tr th {\n",
       "        vertical-align: top;\n",
       "    }\n",
       "\n",
       "    .dataframe thead th {\n",
       "        text-align: right;\n",
       "    }\n",
       "</style>\n",
       "<table border=\"1\" class=\"dataframe\">\n",
       "  <thead>\n",
       "    <tr style=\"text-align: right;\">\n",
       "      <th></th>\n",
       "      <th>id_status</th>\n",
       "      <th>gender</th>\n",
       "      <th>blood_type</th>\n",
       "      <th>pay_method_type</th>\n",
       "      <th>course_name</th>\n",
       "      <th>price_type</th>\n",
       "      <th>entry_from</th>\n",
       "      <th>privilege_name</th>\n",
       "      <th>prefecture</th>\n",
       "      <th>close_flag</th>\n",
       "    </tr>\n",
       "    <tr>\n",
       "      <th>user_id</th>\n",
       "      <th></th>\n",
       "      <th></th>\n",
       "      <th></th>\n",
       "      <th></th>\n",
       "      <th></th>\n",
       "      <th></th>\n",
       "      <th></th>\n",
       "      <th></th>\n",
       "      <th></th>\n",
       "      <th></th>\n",
       "    </tr>\n",
       "  </thead>\n",
       "  <tbody>\n",
       "    <tr>\n",
       "      <th>YKJGBC19356</th>\n",
       "      <td>0</td>\n",
       "      <td>1</td>\n",
       "      <td>0</td>\n",
       "      <td>1</td>\n",
       "      <td>2</td>\n",
       "      <td>2</td>\n",
       "      <td>3</td>\n",
       "      <td>0</td>\n",
       "      <td>47</td>\n",
       "      <td>0</td>\n",
       "    </tr>\n",
       "    <tr>\n",
       "      <th>JMFEBB08712</th>\n",
       "      <td>0</td>\n",
       "      <td>0</td>\n",
       "      <td>3</td>\n",
       "      <td>1</td>\n",
       "      <td>2</td>\n",
       "      <td>0</td>\n",
       "      <td>3</td>\n",
       "      <td>1</td>\n",
       "      <td>5</td>\n",
       "      <td>0</td>\n",
       "    </tr>\n",
       "    <tr>\n",
       "      <th>EXLFTB26665</th>\n",
       "      <td>1</td>\n",
       "      <td>0</td>\n",
       "      <td>1</td>\n",
       "      <td>1</td>\n",
       "      <td>0</td>\n",
       "      <td>0</td>\n",
       "      <td>2</td>\n",
       "      <td>2</td>\n",
       "      <td>41</td>\n",
       "      <td>0</td>\n",
       "    </tr>\n",
       "    <tr>\n",
       "      <th>MWEEMY19722</th>\n",
       "      <td>0</td>\n",
       "      <td>1</td>\n",
       "      <td>2</td>\n",
       "      <td>1</td>\n",
       "      <td>2</td>\n",
       "      <td>2</td>\n",
       "      <td>3</td>\n",
       "      <td>0</td>\n",
       "      <td>36</td>\n",
       "      <td>0</td>\n",
       "    </tr>\n",
       "    <tr>\n",
       "      <th>WWTLYT31226</th>\n",
       "      <td>0</td>\n",
       "      <td>1</td>\n",
       "      <td>0</td>\n",
       "      <td>1</td>\n",
       "      <td>0</td>\n",
       "      <td>3</td>\n",
       "      <td>0</td>\n",
       "      <td>1</td>\n",
       "      <td>25</td>\n",
       "      <td>0</td>\n",
       "    </tr>\n",
       "  </tbody>\n",
       "</table>\n",
       "</div>"
      ],
      "text/plain": [
       "             id_status  gender  blood_type  pay_method_type  course_name  \\\n",
       "user_id                                                                    \n",
       "YKJGBC19356          0       1           0                1            2   \n",
       "JMFEBB08712          0       0           3                1            2   \n",
       "EXLFTB26665          1       0           1                1            0   \n",
       "MWEEMY19722          0       1           2                1            2   \n",
       "WWTLYT31226          0       1           0                1            0   \n",
       "\n",
       "             price_type  entry_from  privilege_name  prefecture  close_flag  \n",
       "user_id                                                                      \n",
       "YKJGBC19356           2           3               0          47           0  \n",
       "JMFEBB08712           0           3               1           5           0  \n",
       "EXLFTB26665           0           2               2          41           0  \n",
       "MWEEMY19722           2           3               0          36           0  \n",
       "WWTLYT31226           3           0               1          25           0  "
      ]
     },
     "execution_count": 11,
     "metadata": {},
     "output_type": "execute_result"
    }
   ],
   "source": [
    "category_columns = ['id_status', 'gender', 'blood_type', 'pay_method_type', 'course_name', 'price_type', 'entry_from', 'privilege_name', 'prefecture']\n",
    "\n",
    "encoders = {}\n",
    "for column in category_columns:\n",
    "    le = LabelEncoder()\n",
    "    le.fit(train[column])\n",
    "    train[column] = le.transform(train[column])\n",
    "    encoders[column] = le\n",
    "    \n",
    "train.head()"
   ]
  },
  {
   "cell_type": "code",
   "execution_count": 12,
   "metadata": {},
   "outputs": [
    {
     "name": "stdout",
     "output_type": "stream",
     "text": [
      "<class 'pandas.core.frame.DataFrame'>\n",
      "Index: 100000 entries, YKJGBC19356 to VTAMKV51107\n",
      "Data columns (total 10 columns):\n",
      " #   Column           Non-Null Count   Dtype\n",
      "---  ------           --------------   -----\n",
      " 0   id_status        100000 non-null  int64\n",
      " 1   gender           100000 non-null  int64\n",
      " 2   blood_type       100000 non-null  int64\n",
      " 3   pay_method_type  100000 non-null  int64\n",
      " 4   course_name      100000 non-null  int64\n",
      " 5   price_type       100000 non-null  int64\n",
      " 6   entry_from       100000 non-null  int64\n",
      " 7   privilege_name   100000 non-null  int64\n",
      " 8   prefecture       100000 non-null  int64\n",
      " 9   close_flag       100000 non-null  int64\n",
      "dtypes: int64(10)\n",
      "memory usage: 8.4+ MB\n"
     ]
    }
   ],
   "source": [
    "train.info()"
   ]
  },
  {
   "cell_type": "markdown",
   "metadata": {},
   "source": [
    "## データセットの分割"
   ]
  },
  {
   "cell_type": "code",
   "execution_count": 13,
   "metadata": {},
   "outputs": [
    {
     "name": "stdout",
     "output_type": "stream",
     "text": [
      "(90000, 9) (10000, 9) (90000,) (10000,)\n"
     ]
    }
   ],
   "source": [
    "y = train['close_flag']\n",
    "X = train.drop('close_flag', axis=1)\n",
    "\n",
    "X_train, X_test, y_train, y_test = train_test_split(X, y, test_size=0.1, random_state=0)\n",
    "\n",
    "print(X_train.shape, X_test.shape, y_train.shape, y_test.shape)"
   ]
  },
  {
   "cell_type": "code",
   "execution_count": 14,
   "metadata": {},
   "outputs": [
    {
     "data": {
      "text/html": [
       "<div>\n",
       "<style scoped>\n",
       "    .dataframe tbody tr th:only-of-type {\n",
       "        vertical-align: middle;\n",
       "    }\n",
       "\n",
       "    .dataframe tbody tr th {\n",
       "        vertical-align: top;\n",
       "    }\n",
       "\n",
       "    .dataframe thead th {\n",
       "        text-align: right;\n",
       "    }\n",
       "</style>\n",
       "<table border=\"1\" class=\"dataframe\">\n",
       "  <thead>\n",
       "    <tr style=\"text-align: right;\">\n",
       "      <th></th>\n",
       "      <th>id_status</th>\n",
       "      <th>gender</th>\n",
       "      <th>blood_type</th>\n",
       "      <th>pay_method_type</th>\n",
       "      <th>course_name</th>\n",
       "      <th>price_type</th>\n",
       "      <th>entry_from</th>\n",
       "      <th>privilege_name</th>\n",
       "      <th>prefecture</th>\n",
       "    </tr>\n",
       "    <tr>\n",
       "      <th>user_id</th>\n",
       "      <th></th>\n",
       "      <th></th>\n",
       "      <th></th>\n",
       "      <th></th>\n",
       "      <th></th>\n",
       "      <th></th>\n",
       "      <th></th>\n",
       "      <th></th>\n",
       "      <th></th>\n",
       "    </tr>\n",
       "  </thead>\n",
       "  <tbody>\n",
       "    <tr>\n",
       "      <th>RHRRWA99067</th>\n",
       "      <td>0</td>\n",
       "      <td>1</td>\n",
       "      <td>1</td>\n",
       "      <td>0</td>\n",
       "      <td>1</td>\n",
       "      <td>1</td>\n",
       "      <td>5</td>\n",
       "      <td>0</td>\n",
       "      <td>25</td>\n",
       "    </tr>\n",
       "    <tr>\n",
       "      <th>MHWBZQ27906</th>\n",
       "      <td>0</td>\n",
       "      <td>1</td>\n",
       "      <td>0</td>\n",
       "      <td>1</td>\n",
       "      <td>2</td>\n",
       "      <td>2</td>\n",
       "      <td>3</td>\n",
       "      <td>1</td>\n",
       "      <td>8</td>\n",
       "    </tr>\n",
       "    <tr>\n",
       "      <th>SYAHAZ07444</th>\n",
       "      <td>0</td>\n",
       "      <td>1</td>\n",
       "      <td>0</td>\n",
       "      <td>1</td>\n",
       "      <td>1</td>\n",
       "      <td>2</td>\n",
       "      <td>5</td>\n",
       "      <td>1</td>\n",
       "      <td>12</td>\n",
       "    </tr>\n",
       "    <tr>\n",
       "      <th>AJVZVQ72485</th>\n",
       "      <td>0</td>\n",
       "      <td>1</td>\n",
       "      <td>0</td>\n",
       "      <td>0</td>\n",
       "      <td>1</td>\n",
       "      <td>3</td>\n",
       "      <td>5</td>\n",
       "      <td>1</td>\n",
       "      <td>8</td>\n",
       "    </tr>\n",
       "    <tr>\n",
       "      <th>IYSXCU88050</th>\n",
       "      <td>0</td>\n",
       "      <td>0</td>\n",
       "      <td>2</td>\n",
       "      <td>0</td>\n",
       "      <td>0</td>\n",
       "      <td>3</td>\n",
       "      <td>5</td>\n",
       "      <td>1</td>\n",
       "      <td>4</td>\n",
       "    </tr>\n",
       "  </tbody>\n",
       "</table>\n",
       "</div>"
      ],
      "text/plain": [
       "             id_status  gender  blood_type  pay_method_type  course_name  \\\n",
       "user_id                                                                    \n",
       "RHRRWA99067          0       1           1                0            1   \n",
       "MHWBZQ27906          0       1           0                1            2   \n",
       "SYAHAZ07444          0       1           0                1            1   \n",
       "AJVZVQ72485          0       1           0                0            1   \n",
       "IYSXCU88050          0       0           2                0            0   \n",
       "\n",
       "             price_type  entry_from  privilege_name  prefecture  \n",
       "user_id                                                          \n",
       "RHRRWA99067           1           5               0          25  \n",
       "MHWBZQ27906           2           3               1           8  \n",
       "SYAHAZ07444           2           5               1          12  \n",
       "AJVZVQ72485           3           5               1           8  \n",
       "IYSXCU88050           3           5               1           4  "
      ]
     },
     "execution_count": 14,
     "metadata": {},
     "output_type": "execute_result"
    }
   ],
   "source": [
    "X_train.head()"
   ]
  },
  {
   "cell_type": "code",
   "execution_count": 15,
   "metadata": {},
   "outputs": [
    {
     "data": {
      "text/plain": [
       "user_id\n",
       "RHRRWA99067    0\n",
       "MHWBZQ27906    0\n",
       "SYAHAZ07444    0\n",
       "AJVZVQ72485    0\n",
       "IYSXCU88050    0\n",
       "Name: close_flag, dtype: int64"
      ]
     },
     "execution_count": 15,
     "metadata": {},
     "output_type": "execute_result"
    }
   ],
   "source": [
    "y_train.head()"
   ]
  },
  {
   "cell_type": "markdown",
   "metadata": {},
   "source": [
    "## モデルの学習と評価"
   ]
  },
  {
   "cell_type": "markdown",
   "metadata": {},
   "source": [
    "### 全てのデータに対して0と予測"
   ]
  },
  {
   "cell_type": "code",
   "execution_count": 16,
   "metadata": {},
   "outputs": [
    {
     "name": "stdout",
     "output_type": "stream",
     "text": [
      "accuracy_score: 0.9052\n",
      "roc_auc_score: 0.5\n"
     ]
    }
   ],
   "source": [
    "all_zero = [0 for _ in range(X_test.shape[0])]\n",
    "\n",
    "print(f'accuracy_score: {accuracy_score(y_test, all_zero)}')\n",
    "print(f'roc_auc_score: {roc_auc_score(y_test, all_zero)}')"
   ]
  },
  {
   "cell_type": "markdown",
   "metadata": {},
   "source": [
    "### ロジスティック回帰"
   ]
  },
  {
   "cell_type": "code",
   "execution_count": 17,
   "metadata": {},
   "outputs": [
    {
     "name": "stdout",
     "output_type": "stream",
     "text": [
      "accuracy_score: 0.9052\n",
      "roc_auc_score: 0.5848192976911646\n"
     ]
    },
    {
     "data": {
      "text/html": [
       "<div>\n",
       "<style scoped>\n",
       "    .dataframe tbody tr th:only-of-type {\n",
       "        vertical-align: middle;\n",
       "    }\n",
       "\n",
       "    .dataframe tbody tr th {\n",
       "        vertical-align: top;\n",
       "    }\n",
       "\n",
       "    .dataframe thead th {\n",
       "        text-align: right;\n",
       "    }\n",
       "</style>\n",
       "<table border=\"1\" class=\"dataframe\">\n",
       "  <thead>\n",
       "    <tr style=\"text-align: right;\">\n",
       "      <th></th>\n",
       "      <th>predicted_0</th>\n",
       "      <th>predicted_1</th>\n",
       "    </tr>\n",
       "  </thead>\n",
       "  <tbody>\n",
       "    <tr>\n",
       "      <th>actual_0</th>\n",
       "      <td>9052</td>\n",
       "      <td>0</td>\n",
       "    </tr>\n",
       "    <tr>\n",
       "      <th>actual_1</th>\n",
       "      <td>948</td>\n",
       "      <td>0</td>\n",
       "    </tr>\n",
       "  </tbody>\n",
       "</table>\n",
       "</div>"
      ],
      "text/plain": [
       "          predicted_0  predicted_1\n",
       "actual_0         9052            0\n",
       "actual_1          948            0"
      ]
     },
     "execution_count": 17,
     "metadata": {},
     "output_type": "execute_result"
    }
   ],
   "source": [
    "lr = LogisticRegression(random_state=0)\n",
    "lr.fit(X_train, y_train)\n",
    "\n",
    "y_pred_prob = lr.predict_proba(X_test)[:,1]\n",
    "y_pred = [1 if prob > 0.5 else 0 for prob in y_pred_prob]\n",
    "\n",
    "print(f'accuracy_score: {accuracy_score(y_test, y_pred)}')\n",
    "print(f'roc_auc_score: {roc_auc_score(y_test, y_pred_prob)}')\n",
    "\n",
    "pd.DataFrame(confusion_matrix(y_test, y_pred), index=['actual_0', 'actual_1'], columns=['predicted_0', 'predicted_1'])"
   ]
  },
  {
   "cell_type": "markdown",
   "metadata": {},
   "source": [
    "## XGboost"
   ]
  },
  {
   "cell_type": "code",
   "execution_count": 18,
   "metadata": {},
   "outputs": [
    {
     "name": "stdout",
     "output_type": "stream",
     "text": [
      "Requirement already satisfied: xgboost in /home/ec2-user/anaconda3/envs/python3/lib/python3.6/site-packages (1.1.1)\n",
      "Requirement already satisfied: numpy in /home/ec2-user/anaconda3/envs/python3/lib/python3.6/site-packages (from xgboost) (1.18.1)\n",
      "Requirement already satisfied: scipy in /home/ec2-user/anaconda3/envs/python3/lib/python3.6/site-packages (from xgboost) (1.4.1)\n",
      "\u001b[33mWARNING: You are using pip version 20.0.2; however, version 20.2.2 is available.\n",
      "You should consider upgrading via the '/home/ec2-user/anaconda3/envs/python3/bin/python -m pip install --upgrade pip' command.\u001b[0m\n"
     ]
    }
   ],
   "source": [
    "!pip install xgboost\n",
    "import xgboost as xgb"
   ]
  },
  {
   "cell_type": "code",
   "execution_count": 25,
   "metadata": {},
   "outputs": [
    {
     "name": "stdout",
     "output_type": "stream",
     "text": [
      "Accuracy: 0.9045\n"
     ]
    },
    {
     "data": {
      "text/html": [
       "<div>\n",
       "<style scoped>\n",
       "    .dataframe tbody tr th:only-of-type {\n",
       "        vertical-align: middle;\n",
       "    }\n",
       "\n",
       "    .dataframe tbody tr th {\n",
       "        vertical-align: top;\n",
       "    }\n",
       "\n",
       "    .dataframe thead th {\n",
       "        text-align: right;\n",
       "    }\n",
       "</style>\n",
       "<table border=\"1\" class=\"dataframe\">\n",
       "  <thead>\n",
       "    <tr style=\"text-align: right;\">\n",
       "      <th></th>\n",
       "      <th>predicted_0</th>\n",
       "      <th>predicted_1</th>\n",
       "    </tr>\n",
       "  </thead>\n",
       "  <tbody>\n",
       "    <tr>\n",
       "      <th>actual_0</th>\n",
       "      <td>9041</td>\n",
       "      <td>11</td>\n",
       "    </tr>\n",
       "    <tr>\n",
       "      <th>actual_1</th>\n",
       "      <td>944</td>\n",
       "      <td>4</td>\n",
       "    </tr>\n",
       "  </tbody>\n",
       "</table>\n",
       "</div>"
      ],
      "text/plain": [
       "          predicted_0  predicted_1\n",
       "actual_0         9041           11\n",
       "actual_1          944            4"
      ]
     },
     "execution_count": 25,
     "metadata": {},
     "output_type": "execute_result"
    }
   ],
   "source": [
    "import xgboost as xgb\n",
    "dtrain = xgb.DMatrix(X_train, label=y_train)\n",
    "dtest = xgb.DMatrix(X_test, label=y_test)\n",
    "xgb_params = {\n",
    "        # 評価指標\n",
    "        'eval_metric': 'logloss',\n",
    "    }\n",
    "\n",
    "bst = xgb.train(xgb_params,\n",
    "                    dtrain,\n",
    "                    num_boost_round=100,  \n",
    "                    )\n",
    "    \n",
    "y_pred_proba = bst.predict(dtest)\n",
    "    \n",
    "y_pred = np.where(y_pred_proba > 0.5, 1, 0)\n",
    "    \n",
    "acc = accuracy_score(y_test, y_pred)\n",
    "print('Accuracy:', acc)\n",
    "pd.DataFrame(confusion_matrix(y_test, y_pred), index=['actual_0', 'actual_1'], columns=['predicted_0', 'predicted_1'])"
   ]
  },
  {
   "cell_type": "markdown",
   "metadata": {},
   "source": [
    "## lightGBM"
   ]
  },
  {
   "cell_type": "code",
   "execution_count": 27,
   "metadata": {},
   "outputs": [
    {
     "name": "stdout",
     "output_type": "stream",
     "text": [
      "Collecting lightgbm\n",
      "  Downloading lightgbm-2.3.1-py2.py3-none-manylinux1_x86_64.whl (1.2 MB)\n",
      "\u001b[K     |████████████████████████████████| 1.2 MB 8.0 MB/s eta 0:00:01\n",
      "\u001b[?25hRequirement already satisfied: scikit-learn in /home/ec2-user/anaconda3/envs/python3/lib/python3.6/site-packages (from lightgbm) (0.22.1)\n",
      "Requirement already satisfied: scipy in /home/ec2-user/anaconda3/envs/python3/lib/python3.6/site-packages (from lightgbm) (1.4.1)\n",
      "Requirement already satisfied: numpy in /home/ec2-user/anaconda3/envs/python3/lib/python3.6/site-packages (from lightgbm) (1.18.1)\n",
      "Requirement already satisfied: joblib>=0.11 in /home/ec2-user/anaconda3/envs/python3/lib/python3.6/site-packages (from scikit-learn->lightgbm) (0.14.1)\n",
      "Installing collected packages: lightgbm\n",
      "Successfully installed lightgbm-2.3.1\n",
      "\u001b[33mWARNING: You are using pip version 20.0.2; however, version 20.2.2 is available.\n",
      "You should consider upgrading via the '/home/ec2-user/anaconda3/envs/python3/bin/python -m pip install --upgrade pip' command.\u001b[0m\n"
     ]
    }
   ],
   "source": [
    "! pip install lightgbm\n",
    "import lightgbm as lgb\n"
   ]
  },
  {
   "cell_type": "code",
   "execution_count": 28,
   "metadata": {},
   "outputs": [],
   "source": [
    "lgb_train = lgb.Dataset(X_train, y_train)\n",
    "lgb_eval = lgb.Dataset(X_test, y_test)\n",
    "\n",
    "lgb_train = lgb.Dataset(X_train, y_train)\n",
    "lgb_eval = lgb.Dataset(X_test, y_test)"
   ]
  },
  {
   "cell_type": "code",
   "execution_count": 29,
   "metadata": {},
   "outputs": [],
   "source": [
    "params = {'metric': 'rmse',\n",
    "          'max_depth' : 9}"
   ]
  },
  {
   "cell_type": "code",
   "execution_count": 30,
   "metadata": {},
   "outputs": [
    {
     "name": "stdout",
     "output_type": "stream",
     "text": [
      "Training until validation scores don't improve for 100 rounds\n",
      "[50]\tvalid_0's rmse: 0.282555\n",
      "[100]\tvalid_0's rmse: 0.282326\n",
      "[150]\tvalid_0's rmse: 0.282525\n",
      "[200]\tvalid_0's rmse: 0.282842\n",
      "Early stopping, best iteration is:\n",
      "[101]\tvalid_0's rmse: 0.282311\n"
     ]
    }
   ],
   "source": [
    "gbm = lgb.train(params,\n",
    "                lgb_train,\n",
    "                valid_sets=lgb_eval,\n",
    "                num_boost_round=10000,\n",
    "                early_stopping_rounds=100,\n",
    "                verbose_eval=50)"
   ]
  },
  {
   "cell_type": "code",
   "execution_count": 33,
   "metadata": {},
   "outputs": [
    {
     "name": "stdout",
     "output_type": "stream",
     "text": [
      "[0.03051317 0.07272898 0.12254629 ... 0.01557537 0.20353397 0.07646524]\n"
     ]
    },
    {
     "ename": "ValueError",
     "evalue": "Classification metrics can't handle a mix of binary and continuous targets",
     "output_type": "error",
     "traceback": [
      "\u001b[0;31m---------------------------------------------------------------------------\u001b[0m",
      "\u001b[0;31mValueError\u001b[0m                                Traceback (most recent call last)",
      "\u001b[0;32m<ipython-input-33-116eb22334af>\u001b[0m in \u001b[0;36m<module>\u001b[0;34m\u001b[0m\n\u001b[1;32m      1\u001b[0m \u001b[0mpredicted\u001b[0m \u001b[0;34m=\u001b[0m \u001b[0mgbm\u001b[0m\u001b[0;34m.\u001b[0m\u001b[0mpredict\u001b[0m\u001b[0;34m(\u001b[0m\u001b[0mX_test\u001b[0m\u001b[0;34m)\u001b[0m\u001b[0;34m\u001b[0m\u001b[0;34m\u001b[0m\u001b[0m\n\u001b[1;32m      2\u001b[0m \u001b[0mprint\u001b[0m\u001b[0;34m(\u001b[0m\u001b[0mpredicted\u001b[0m\u001b[0;34m)\u001b[0m\u001b[0;34m\u001b[0m\u001b[0;34m\u001b[0m\u001b[0m\n\u001b[0;32m----> 3\u001b[0;31m \u001b[0macc\u001b[0m \u001b[0;34m=\u001b[0m \u001b[0maccuracy_score\u001b[0m\u001b[0;34m(\u001b[0m\u001b[0my_test\u001b[0m\u001b[0;34m,\u001b[0m \u001b[0mpredicted\u001b[0m\u001b[0;34m)\u001b[0m\u001b[0;34m\u001b[0m\u001b[0;34m\u001b[0m\u001b[0m\n\u001b[0m\u001b[1;32m      4\u001b[0m \u001b[0mprint\u001b[0m\u001b[0;34m(\u001b[0m\u001b[0;34m'Accuracy:'\u001b[0m\u001b[0;34m,\u001b[0m \u001b[0macc\u001b[0m\u001b[0;34m)\u001b[0m\u001b[0;34m\u001b[0m\u001b[0;34m\u001b[0m\u001b[0m\n",
      "\u001b[0;32m~/anaconda3/envs/python3/lib/python3.6/site-packages/sklearn/metrics/_classification.py\u001b[0m in \u001b[0;36maccuracy_score\u001b[0;34m(y_true, y_pred, normalize, sample_weight)\u001b[0m\n\u001b[1;32m    183\u001b[0m \u001b[0;34m\u001b[0m\u001b[0m\n\u001b[1;32m    184\u001b[0m     \u001b[0;31m# Compute accuracy for each possible representation\u001b[0m\u001b[0;34m\u001b[0m\u001b[0;34m\u001b[0m\u001b[0;34m\u001b[0m\u001b[0m\n\u001b[0;32m--> 185\u001b[0;31m     \u001b[0my_type\u001b[0m\u001b[0;34m,\u001b[0m \u001b[0my_true\u001b[0m\u001b[0;34m,\u001b[0m \u001b[0my_pred\u001b[0m \u001b[0;34m=\u001b[0m \u001b[0m_check_targets\u001b[0m\u001b[0;34m(\u001b[0m\u001b[0my_true\u001b[0m\u001b[0;34m,\u001b[0m \u001b[0my_pred\u001b[0m\u001b[0;34m)\u001b[0m\u001b[0;34m\u001b[0m\u001b[0;34m\u001b[0m\u001b[0m\n\u001b[0m\u001b[1;32m    186\u001b[0m     \u001b[0mcheck_consistent_length\u001b[0m\u001b[0;34m(\u001b[0m\u001b[0my_true\u001b[0m\u001b[0;34m,\u001b[0m \u001b[0my_pred\u001b[0m\u001b[0;34m,\u001b[0m \u001b[0msample_weight\u001b[0m\u001b[0;34m)\u001b[0m\u001b[0;34m\u001b[0m\u001b[0;34m\u001b[0m\u001b[0m\n\u001b[1;32m    187\u001b[0m     \u001b[0;32mif\u001b[0m \u001b[0my_type\u001b[0m\u001b[0;34m.\u001b[0m\u001b[0mstartswith\u001b[0m\u001b[0;34m(\u001b[0m\u001b[0;34m'multilabel'\u001b[0m\u001b[0;34m)\u001b[0m\u001b[0;34m:\u001b[0m\u001b[0;34m\u001b[0m\u001b[0;34m\u001b[0m\u001b[0m\n",
      "\u001b[0;32m~/anaconda3/envs/python3/lib/python3.6/site-packages/sklearn/metrics/_classification.py\u001b[0m in \u001b[0;36m_check_targets\u001b[0;34m(y_true, y_pred)\u001b[0m\n\u001b[1;32m     88\u001b[0m     \u001b[0;32mif\u001b[0m \u001b[0mlen\u001b[0m\u001b[0;34m(\u001b[0m\u001b[0my_type\u001b[0m\u001b[0;34m)\u001b[0m \u001b[0;34m>\u001b[0m \u001b[0;36m1\u001b[0m\u001b[0;34m:\u001b[0m\u001b[0;34m\u001b[0m\u001b[0;34m\u001b[0m\u001b[0m\n\u001b[1;32m     89\u001b[0m         raise ValueError(\"Classification metrics can't handle a mix of {0} \"\n\u001b[0;32m---> 90\u001b[0;31m                          \"and {1} targets\".format(type_true, type_pred))\n\u001b[0m\u001b[1;32m     91\u001b[0m \u001b[0;34m\u001b[0m\u001b[0m\n\u001b[1;32m     92\u001b[0m     \u001b[0;31m# We can't have more than one value on y_type => The set is no more needed\u001b[0m\u001b[0;34m\u001b[0m\u001b[0;34m\u001b[0m\u001b[0;34m\u001b[0m\u001b[0m\n",
      "\u001b[0;31mValueError\u001b[0m: Classification metrics can't handle a mix of binary and continuous targets"
     ]
    }
   ],
   "source": [
    "predicted = gbm.predict(X_test)\n",
    "print(predicted)\n",
    "acc = accuracy_score(y_test, predicted)\n",
    "print('Accuracy:', acc)"
   ]
  },
  {
   "cell_type": "markdown",
   "metadata": {},
   "source": [
    "### ランダムフォレスト"
   ]
  },
  {
   "cell_type": "code",
   "execution_count": 18,
   "metadata": {},
   "outputs": [
    {
     "name": "stdout",
     "output_type": "stream",
     "text": [
      "accuracy_score: 0.8835\n",
      "roc_auc_score: 0.654315152396561\n"
     ]
    },
    {
     "data": {
      "text/html": [
       "<div>\n",
       "<style scoped>\n",
       "    .dataframe tbody tr th:only-of-type {\n",
       "        vertical-align: middle;\n",
       "    }\n",
       "\n",
       "    .dataframe tbody tr th {\n",
       "        vertical-align: top;\n",
       "    }\n",
       "\n",
       "    .dataframe thead th {\n",
       "        text-align: right;\n",
       "    }\n",
       "</style>\n",
       "<table border=\"1\" class=\"dataframe\">\n",
       "  <thead>\n",
       "    <tr style=\"text-align: right;\">\n",
       "      <th></th>\n",
       "      <th>predicted_0</th>\n",
       "      <th>predicted_1</th>\n",
       "    </tr>\n",
       "  </thead>\n",
       "  <tbody>\n",
       "    <tr>\n",
       "      <th>actual_0</th>\n",
       "      <td>8783</td>\n",
       "      <td>269</td>\n",
       "    </tr>\n",
       "    <tr>\n",
       "      <th>actual_1</th>\n",
       "      <td>896</td>\n",
       "      <td>52</td>\n",
       "    </tr>\n",
       "  </tbody>\n",
       "</table>\n",
       "</div>"
      ],
      "text/plain": [
       "          predicted_0  predicted_1\n",
       "actual_0         8783          269\n",
       "actual_1          896           52"
      ]
     },
     "execution_count": 18,
     "metadata": {},
     "output_type": "execute_result"
    }
   ],
   "source": [
    "rf = RandomForestClassifier(random_state=0)\n",
    "rf.fit(X_train, y_train)\n",
    "\n",
    "y_pred_prob = rf.predict_proba(X_test)[:,1]\n",
    "y_pred = [1 if prob > 0.5 else 0 for prob in y_pred_prob]\n",
    "\n",
    "print(f'accuracy_score: {accuracy_score(y_test, y_pred)}')\n",
    "print(f'roc_auc_score: {roc_auc_score(y_test, y_pred_prob)}')\n",
    "\n",
    "pd.DataFrame(confusion_matrix(y_test, y_pred), index=['actual_0', 'actual_1'], columns=['predicted_0', 'predicted_1'])"
   ]
  },
  {
   "cell_type": "markdown",
   "metadata": {},
   "source": [
    "## test.csvの予測の作成"
   ]
  },
  {
   "cell_type": "code",
   "execution_count": 19,
   "metadata": {},
   "outputs": [
    {
     "data": {
      "text/html": [
       "<div>\n",
       "<style scoped>\n",
       "    .dataframe tbody tr th:only-of-type {\n",
       "        vertical-align: middle;\n",
       "    }\n",
       "\n",
       "    .dataframe tbody tr th {\n",
       "        vertical-align: top;\n",
       "    }\n",
       "\n",
       "    .dataframe thead th {\n",
       "        text-align: right;\n",
       "    }\n",
       "</style>\n",
       "<table border=\"1\" class=\"dataframe\">\n",
       "  <thead>\n",
       "    <tr style=\"text-align: right;\">\n",
       "      <th></th>\n",
       "      <th>user_id</th>\n",
       "      <th>user_agent</th>\n",
       "      <th>entry_date</th>\n",
       "      <th>open_date</th>\n",
       "      <th>birthday</th>\n",
       "      <th>id_status</th>\n",
       "      <th>gender</th>\n",
       "      <th>blood_type</th>\n",
       "      <th>pay_method_type</th>\n",
       "      <th>course_name</th>\n",
       "      <th>price_type</th>\n",
       "      <th>entry_from</th>\n",
       "      <th>privilege_name</th>\n",
       "      <th>prefecture</th>\n",
       "    </tr>\n",
       "  </thead>\n",
       "  <tbody>\n",
       "    <tr>\n",
       "      <th>0</th>\n",
       "      <td>HLSZTB50403</td>\n",
       "      <td>Mozilla/5.0 (Android 3.2.5; Mobile; rv:50.0) G...</td>\n",
       "      <td>2017-11-14</td>\n",
       "      <td>2018-03-07</td>\n",
       "      <td>1996-04-04</td>\n",
       "      <td>新規</td>\n",
       "      <td>女性</td>\n",
       "      <td>O</td>\n",
       "      <td>口座振替</td>\n",
       "      <td>@nifty ドコモ光</td>\n",
       "      <td>ホーム2年プラン</td>\n",
       "      <td>代理店取次</td>\n",
       "      <td>月額割引還元</td>\n",
       "      <td>福岡</td>\n",
       "    </tr>\n",
       "    <tr>\n",
       "      <th>1</th>\n",
       "      <td>FCQNUE35187</td>\n",
       "      <td>Mozilla/5.0 (Macintosh; PPC Mac OS X 10_7_3 rv...</td>\n",
       "      <td>2016-09-24</td>\n",
       "      <td>2016-12-06</td>\n",
       "      <td>1976-04-08</td>\n",
       "      <td>新規</td>\n",
       "      <td>女性</td>\n",
       "      <td>A</td>\n",
       "      <td>口座振替</td>\n",
       "      <td>@nifty光</td>\n",
       "      <td>マンション2年プラン</td>\n",
       "      <td>ノジマ取次</td>\n",
       "      <td>付帯サービス無料</td>\n",
       "      <td>大阪</td>\n",
       "    </tr>\n",
       "    <tr>\n",
       "      <th>2</th>\n",
       "      <td>IYSBZQ82404</td>\n",
       "      <td>Mozilla/5.0 (compatible; MSIE 9.0; Windows NT ...</td>\n",
       "      <td>2016-09-05</td>\n",
       "      <td>2016-11-08</td>\n",
       "      <td>2002-05-18</td>\n",
       "      <td>新規</td>\n",
       "      <td>女性</td>\n",
       "      <td>AB</td>\n",
       "      <td>口座振替</td>\n",
       "      <td>@nifty auひかり</td>\n",
       "      <td>マンション2年プラン</td>\n",
       "      <td>代理店取次</td>\n",
       "      <td>付帯サービス無料</td>\n",
       "      <td>二府亭県</td>\n",
       "    </tr>\n",
       "    <tr>\n",
       "      <th>3</th>\n",
       "      <td>BPIREY57201</td>\n",
       "      <td>Mozilla/5.0 (Macintosh; PPC Mac OS X 10_7_1; r...</td>\n",
       "      <td>2018-03-13</td>\n",
       "      <td>2018-04-14</td>\n",
       "      <td>1995-04-15</td>\n",
       "      <td>新規</td>\n",
       "      <td>女性</td>\n",
       "      <td>A</td>\n",
       "      <td>クレジットカード</td>\n",
       "      <td>@nifty光</td>\n",
       "      <td>マンション2年プラン</td>\n",
       "      <td>キャリア取次</td>\n",
       "      <td>キャッシュバック還元</td>\n",
       "      <td>福岡</td>\n",
       "    </tr>\n",
       "    <tr>\n",
       "      <th>4</th>\n",
       "      <td>ISWWBF46615</td>\n",
       "      <td>Mozilla/5.0 (Windows CE) AppleWebKit/533.2 (KH...</td>\n",
       "      <td>2016-11-20</td>\n",
       "      <td>2017-02-02</td>\n",
       "      <td>2000-02-21</td>\n",
       "      <td>新規</td>\n",
       "      <td>男性</td>\n",
       "      <td>B</td>\n",
       "      <td>クレジットカード</td>\n",
       "      <td>@nifty auひかり</td>\n",
       "      <td>ホーム3年プラン</td>\n",
       "      <td>キャリア取次</td>\n",
       "      <td>キャッシュバック還元</td>\n",
       "      <td>愛知</td>\n",
       "    </tr>\n",
       "  </tbody>\n",
       "</table>\n",
       "</div>"
      ],
      "text/plain": [
       "       user_id                                         user_agent  entry_date  \\\n",
       "0  HLSZTB50403  Mozilla/5.0 (Android 3.2.5; Mobile; rv:50.0) G...  2017-11-14   \n",
       "1  FCQNUE35187  Mozilla/5.0 (Macintosh; PPC Mac OS X 10_7_3 rv...  2016-09-24   \n",
       "2  IYSBZQ82404  Mozilla/5.0 (compatible; MSIE 9.0; Windows NT ...  2016-09-05   \n",
       "3  BPIREY57201  Mozilla/5.0 (Macintosh; PPC Mac OS X 10_7_1; r...  2018-03-13   \n",
       "4  ISWWBF46615  Mozilla/5.0 (Windows CE) AppleWebKit/533.2 (KH...  2016-11-20   \n",
       "\n",
       "    open_date    birthday id_status gender blood_type pay_method_type  \\\n",
       "0  2018-03-07  1996-04-04        新規     女性          O            口座振替   \n",
       "1  2016-12-06  1976-04-08        新規     女性          A            口座振替   \n",
       "2  2016-11-08  2002-05-18        新規     女性         AB            口座振替   \n",
       "3  2018-04-14  1995-04-15        新規     女性          A        クレジットカード   \n",
       "4  2017-02-02  2000-02-21        新規     男性          B        クレジットカード   \n",
       "\n",
       "    course_name  price_type entry_from privilege_name prefecture  \n",
       "0   @nifty ドコモ光    ホーム2年プラン      代理店取次         月額割引還元         福岡  \n",
       "1       @nifty光  マンション2年プラン      ノジマ取次       付帯サービス無料         大阪  \n",
       "2  @nifty auひかり  マンション2年プラン      代理店取次       付帯サービス無料       二府亭県  \n",
       "3       @nifty光  マンション2年プラン     キャリア取次     キャッシュバック還元         福岡  \n",
       "4  @nifty auひかり    ホーム3年プラン     キャリア取次     キャッシュバック還元         愛知  "
      ]
     },
     "execution_count": 19,
     "metadata": {},
     "output_type": "execute_result"
    }
   ],
   "source": [
    "test = pd.read_csv('input/test.csv')\n",
    "test.head()"
   ]
  },
  {
   "cell_type": "code",
   "execution_count": 7,
   "metadata": {},
   "outputs": [
    {
     "ename": "NameError",
     "evalue": "name 'encoders' is not defined",
     "output_type": "error",
     "traceback": [
      "\u001b[0;31m---------------------------------------------------------------------------\u001b[0m",
      "\u001b[0;31mNameError\u001b[0m                                 Traceback (most recent call last)",
      "\u001b[0;32m<ipython-input-7-153dd524b1c5>\u001b[0m in \u001b[0;36m<module>\u001b[0;34m\u001b[0m\n\u001b[1;32m      8\u001b[0m \u001b[0mcategory_columns\u001b[0m \u001b[0;34m=\u001b[0m \u001b[0;34m[\u001b[0m\u001b[0;34m'id_status'\u001b[0m\u001b[0;34m,\u001b[0m \u001b[0;34m'gender'\u001b[0m\u001b[0;34m,\u001b[0m \u001b[0;34m'blood_type'\u001b[0m\u001b[0;34m,\u001b[0m \u001b[0;34m'pay_method_type'\u001b[0m\u001b[0;34m,\u001b[0m \u001b[0;34m'course_name'\u001b[0m\u001b[0;34m,\u001b[0m \u001b[0;34m'price_type'\u001b[0m\u001b[0;34m,\u001b[0m \u001b[0;34m'entry_from'\u001b[0m\u001b[0;34m,\u001b[0m \u001b[0;34m'privilege_name'\u001b[0m\u001b[0;34m,\u001b[0m \u001b[0;34m'prefecture'\u001b[0m\u001b[0;34m]\u001b[0m\u001b[0;34m\u001b[0m\u001b[0;34m\u001b[0m\u001b[0m\n\u001b[1;32m      9\u001b[0m \u001b[0;32mfor\u001b[0m \u001b[0mcolumn\u001b[0m \u001b[0;32min\u001b[0m \u001b[0mcategory_columns\u001b[0m\u001b[0;34m:\u001b[0m\u001b[0;34m\u001b[0m\u001b[0;34m\u001b[0m\u001b[0m\n\u001b[0;32m---> 10\u001b[0;31m     \u001b[0mle\u001b[0m \u001b[0;34m=\u001b[0m \u001b[0mencoders\u001b[0m\u001b[0;34m[\u001b[0m\u001b[0mcolumn\u001b[0m\u001b[0;34m]\u001b[0m\u001b[0;34m\u001b[0m\u001b[0;34m\u001b[0m\u001b[0m\n\u001b[0m\u001b[1;32m     11\u001b[0m     \u001b[0mle\u001b[0m\u001b[0;34m.\u001b[0m\u001b[0mfit\u001b[0m\u001b[0;34m(\u001b[0m\u001b[0mtest\u001b[0m\u001b[0;34m[\u001b[0m\u001b[0mcolumn\u001b[0m\u001b[0;34m]\u001b[0m\u001b[0;34m)\u001b[0m\u001b[0;34m\u001b[0m\u001b[0;34m\u001b[0m\u001b[0m\n\u001b[1;32m     12\u001b[0m     \u001b[0mtest\u001b[0m\u001b[0;34m[\u001b[0m\u001b[0mcolumn\u001b[0m\u001b[0;34m]\u001b[0m \u001b[0;34m=\u001b[0m \u001b[0mle\u001b[0m\u001b[0;34m.\u001b[0m\u001b[0mtransform\u001b[0m\u001b[0;34m(\u001b[0m\u001b[0mtest\u001b[0m\u001b[0;34m[\u001b[0m\u001b[0mcolumn\u001b[0m\u001b[0;34m]\u001b[0m\u001b[0;34m)\u001b[0m\u001b[0;34m\u001b[0m\u001b[0;34m\u001b[0m\u001b[0m\n",
      "\u001b[0;31mNameError\u001b[0m: name 'encoders' is not defined"
     ]
    }
   ],
   "source": [
    "test = test.set_index('user_id')\n",
    "\n",
    "datetime_columns = ['entry_date', 'open_date', 'birthday']\n",
    "for column in datetime_columns:\n",
    "    test = test.drop(column, axis=1)\n",
    "test = test.drop('user_agent', axis=1)\n",
    "\n",
    "category_columns = ['id_status', 'gender', 'blood_type', 'pay_method_type', 'course_name', 'price_type', 'entry_from', 'privilege_name', 'prefecture']\n",
    "for column in category_columns:\n",
    "    le = encoders[column]\n",
    "    le.fit(test[column])\n",
    "    test[column] = le.transform(test[column])\n"
   ]
  },
  {
   "cell_type": "code",
   "execution_count": 21,
   "metadata": {},
   "outputs": [
    {
     "name": "stdout",
     "output_type": "stream",
     "text": [
      "mkdir: created directory ‘output’\r\n"
     ]
    }
   ],
   "source": [
    "! mkdir -v output"
   ]
  },
  {
   "cell_type": "code",
   "execution_count": 22,
   "metadata": {},
   "outputs": [
    {
     "data": {
      "text/html": [
       "<div>\n",
       "<style scoped>\n",
       "    .dataframe tbody tr th:only-of-type {\n",
       "        vertical-align: middle;\n",
       "    }\n",
       "\n",
       "    .dataframe tbody tr th {\n",
       "        vertical-align: top;\n",
       "    }\n",
       "\n",
       "    .dataframe thead th {\n",
       "        text-align: right;\n",
       "    }\n",
       "</style>\n",
       "<table border=\"1\" class=\"dataframe\">\n",
       "  <thead>\n",
       "    <tr style=\"text-align: right;\">\n",
       "      <th></th>\n",
       "      <th>user_id</th>\n",
       "      <th>close_flag</th>\n",
       "    </tr>\n",
       "  </thead>\n",
       "  <tbody>\n",
       "    <tr>\n",
       "      <th>0</th>\n",
       "      <td>HLSZTB50403</td>\n",
       "      <td>0.130000</td>\n",
       "    </tr>\n",
       "    <tr>\n",
       "      <th>1</th>\n",
       "      <td>FCQNUE35187</td>\n",
       "      <td>0.433556</td>\n",
       "    </tr>\n",
       "    <tr>\n",
       "      <th>2</th>\n",
       "      <td>IYSBZQ82404</td>\n",
       "      <td>0.167500</td>\n",
       "    </tr>\n",
       "    <tr>\n",
       "      <th>3</th>\n",
       "      <td>BPIREY57201</td>\n",
       "      <td>0.097595</td>\n",
       "    </tr>\n",
       "    <tr>\n",
       "      <th>4</th>\n",
       "      <td>ISWWBF46615</td>\n",
       "      <td>0.011667</td>\n",
       "    </tr>\n",
       "  </tbody>\n",
       "</table>\n",
       "</div>"
      ],
      "text/plain": [
       "       user_id  close_flag\n",
       "0  HLSZTB50403    0.130000\n",
       "1  FCQNUE35187    0.433556\n",
       "2  IYSBZQ82404    0.167500\n",
       "3  BPIREY57201    0.097595\n",
       "4  ISWWBF46615    0.011667"
      ]
     },
     "execution_count": 22,
     "metadata": {},
     "output_type": "execute_result"
    }
   ],
   "source": [
    "submission = pd.DataFrame({'user_id': test.index, 'close_flag': rf.predict_proba(test)[:,1]})\n",
    "submission.head()"
   ]
  },
  {
   "cell_type": "code",
   "execution_count": 23,
   "metadata": {},
   "outputs": [
    {
     "name": "stdout",
     "output_type": "stream",
     "text": [
      "user_id,close_flag\r\n",
      "HLSZTB50403,0.13\r\n",
      "FCQNUE35187,0.4335555555555555\r\n",
      "IYSBZQ82404,0.1675\r\n",
      "BPIREY57201,0.09759523809523808\r\n",
      "ISWWBF46615,0.011666666666666665\r\n",
      "VDXVGA70627,0.0\r\n",
      "BHPCVA00465,0.02\r\n",
      "HNNPGY38481,0.63\r\n",
      "OQNEPI63524,0.02\r\n"
     ]
    }
   ],
   "source": [
    "submission.to_csv('output/my_submission.csv', index=False)\n",
    "! head output/my_submission.csv"
   ]
  },
  {
   "cell_type": "markdown",
   "metadata": {},
   "source": [
    "## Kaggleへ予測結果を提出"
   ]
  },
  {
   "cell_type": "markdown",
   "metadata": {},
   "source": [
    "### Webサイトを利用して提出"
   ]
  },
  {
   "cell_type": "markdown",
   "metadata": {},
   "source": [
    "1. 左のメニューから予測結果をダウンロードします  \n",
    "\n",
    "<img src=\"images/download.png\" align=\"left\"/>"
   ]
  },
  {
   "cell_type": "markdown",
   "metadata": {},
   "source": [
    "2. [コンペサイトの提出ページ](https://www.kaggle.com/c/competition-0819/submit)にアクセスします\n",
    "    - コンペに参加していない場合は[こちら](https://www.kaggle.com/t/7155c36646d64acf93c04433208eb510)から参加してください"
   ]
  },
  {
   "cell_type": "markdown",
   "metadata": {},
   "source": [
    "3. 予測結果を提出します\n",
    "    - 予測結果をアップロード\n",
    "        - チェックマークが表示されたらアップロード完了です  \n",
    "    - 説明を記入する\n",
    "    - ```Make Submission```を押して提出する\n",
    "    \n",
    "<img src=\"images/step1.png\" align=\"left\"/>\n",
    "<img src=\"images/step2.png\" align=\"left\"/>\n",
    "<img src=\"images/submit.png\" align=\"left\"/>"
   ]
  },
  {
   "cell_type": "markdown",
   "metadata": {},
   "source": [
    "4. ```My Submissins```でスコアを確認できます\n",
    "\n",
    "<img src=\"images/score.png\" align=\"left\"/>"
   ]
  },
  {
   "cell_type": "markdown",
   "metadata": {},
   "source": [
    "### 応用編：APIを利用して提出"
   ]
  },
  {
   "cell_type": "code",
   "execution_count": 24,
   "metadata": {},
   "outputs": [
    {
     "name": "stdout",
     "output_type": "stream",
     "text": [
      "Collecting kaggle\n",
      "\u001b[?25l  Downloading https://files.pythonhosted.org/packages/62/ab/bb20f9b9e24f9a6250f95a432f8d9a7d745f8d24039d7a5a6eaadb7783ba/kaggle-1.5.6.tar.gz (58kB)\n",
      "\u001b[K    100% |████████████████████████████████| 61kB 6.5MB/s ta 0:00:011\n",
      "\u001b[?25hRequirement already satisfied: urllib3<1.25,>=1.21.1 in /usr/lib/python3.6/dist-packages (from kaggle) (1.24.3)\n",
      "Requirement already satisfied: six>=1.10 in /usr/lib/python3.6/dist-packages (from kaggle) (1.15.0)\n",
      "Requirement already satisfied: certifi in /usr/lib/python3.6/dist-packages (from kaggle) (2020.4.5.2)\n",
      "Requirement already satisfied: python-dateutil in /usr/lib/python3.6/dist-packages (from kaggle) (2.8.1)\n",
      "Requirement already satisfied: requests in /usr/lib/python3.6/dist-packages (from kaggle) (2.20.0)\n",
      "Collecting tqdm (from kaggle)\n",
      "\u001b[?25l  Downloading https://files.pythonhosted.org/packages/28/7e/281edb5bc3274dfb894d90f4dbacfceaca381c2435ec6187a2c6f329aed7/tqdm-4.48.2-py2.py3-none-any.whl (68kB)\n",
      "\u001b[K    100% |████████████████████████████████| 71kB 14.0MB/s ta 0:00:01\n",
      "\u001b[?25hCollecting python-slugify (from kaggle)\n",
      "  Downloading https://files.pythonhosted.org/packages/9f/42/e336f96a8b6007428df772d0d159b8eee9b2f1811593a4931150660402c0/python-slugify-4.0.1.tar.gz\n",
      "Requirement already satisfied: idna<2.8,>=2.5 in /usr/lib/python3.6/dist-packages (from requests->kaggle) (2.7)\n",
      "Requirement already satisfied: chardet<3.1.0,>=3.0.2 in /usr/lib/python3.6/dist-packages (from requests->kaggle) (3.0.4)\n",
      "Collecting text-unidecode>=1.3 (from python-slugify->kaggle)\n",
      "\u001b[?25l  Downloading https://files.pythonhosted.org/packages/a6/a5/c0b6468d3824fe3fde30dbb5e1f687b291608f9473681bbf7dabbf5a87d7/text_unidecode-1.3-py2.py3-none-any.whl (78kB)\n",
      "\u001b[K    100% |████████████████████████████████| 81kB 15.0MB/s ta 0:00:01\n",
      "\u001b[?25hBuilding wheels for collected packages: kaggle, python-slugify\n",
      "  Building wheel for kaggle (setup.py) ... \u001b[?25ldone\n",
      "\u001b[?25h  Stored in directory: /root/.cache/pip/wheels/57/4e/e8/bb28d035162fb8f17f8ca5d42c3230e284c6aa565b42b72674\n",
      "  Building wheel for python-slugify (setup.py) ... \u001b[?25ldone\n",
      "\u001b[?25h  Stored in directory: /root/.cache/pip/wheels/67/b8/ba/041548f30a6fc058c9b3f79a5b7b6aea925a15dd1e5c4992a4\n",
      "Successfully built kaggle python-slugify\n",
      "Installing collected packages: tqdm, text-unidecode, python-slugify, kaggle\n",
      "\u001b[33m  The script tqdm is installed in '/usr/local/bin' which is not on PATH.\n",
      "  Consider adding this directory to PATH or, if you prefer to suppress this warning, use --no-warn-script-location.\u001b[0m\n",
      "\u001b[33m  The script slugify is installed in '/usr/local/bin' which is not on PATH.\n",
      "  Consider adding this directory to PATH or, if you prefer to suppress this warning, use --no-warn-script-location.\u001b[0m\n",
      "\u001b[33m  The script kaggle is installed in '/usr/local/bin' which is not on PATH.\n",
      "  Consider adding this directory to PATH or, if you prefer to suppress this warning, use --no-warn-script-location.\u001b[0m\n",
      "Successfully installed kaggle-1.5.6 python-slugify-4.0.1 text-unidecode-1.3 tqdm-4.48.2\n",
      "\u001b[33mYou are using pip version 19.0.2, however version 20.2.2 is available.\n",
      "You should consider upgrading via the 'pip install --upgrade pip' command.\u001b[0m\n"
     ]
    }
   ],
   "source": [
    "# 初回だけ実行すれば大丈夫です\n",
    "! sudo pip install kaggle"
   ]
  },
  {
   "cell_type": "code",
   "execution_count": 25,
   "metadata": {},
   "outputs": [
    {
     "name": "stdout",
     "output_type": "stream",
     "text": [
      "-rw------- 1 ec2-user ec2-user 25 Aug 19 05:01 /home/ec2-user/.kaggle/kaggle.json\r\n"
     ]
    }
   ],
   "source": [
    "# 初回だけ実行すれば大丈夫です\n",
    "# usernameとkeyはWebから入手できます。各自で書き換えてください\n",
    "! mkdir ~/.kaggle\n",
    "! echo '{\"username\":\"\",\"key\":\"\"}' > ~/.kaggle/kaggle.json\n",
    "! chmod 600 ~/.kaggle/kaggle.json\n",
    "! ls -l ~/.kaggle/kaggle.json"
   ]
  },
  {
   "cell_type": "code",
   "execution_count": 26,
   "metadata": {},
   "outputs": [
    {
     "name": "stdout",
     "output_type": "stream",
     "text": [
      "401 - Unauthorized\r\n"
     ]
    }
   ],
   "source": [
    "! kaggle competitions submit -c competition-0819 -f output/my_submission.csv -m \"example\""
   ]
  },
  {
   "cell_type": "code",
   "execution_count": 27,
   "metadata": {},
   "outputs": [
    {
     "name": "stdout",
     "output_type": "stream",
     "text": [
      "401 - Unauthorized\r\n"
     ]
    }
   ],
   "source": [
    "! kaggle competitions submissions -c competition-0819 | head -n 3"
   ]
  },
  {
   "cell_type": "code",
   "execution_count": null,
   "metadata": {},
   "outputs": [],
   "source": []
  }
 ],
 "metadata": {
  "kernelspec": {
   "display_name": "conda_python3",
   "language": "python",
   "name": "conda_python3"
  },
  "language_info": {
   "codemirror_mode": {
    "name": "ipython",
    "version": 3
   },
   "file_extension": ".py",
   "mimetype": "text/x-python",
   "name": "python",
   "nbconvert_exporter": "python",
   "pygments_lexer": "ipython3",
   "version": "3.6.10"
  }
 },
 "nbformat": 4,
 "nbformat_minor": 4
}
